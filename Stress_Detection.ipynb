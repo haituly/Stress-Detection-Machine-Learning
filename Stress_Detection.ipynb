{
  "nbformat": 4,
  "nbformat_minor": 0,
  "metadata": {
    "colab": {
      "provenance": [],
      "authorship_tag": "ABX9TyNyxzBZTEK4DILOh9FKYiqr",
      "include_colab_link": true
    },
    "kernelspec": {
      "name": "python3",
      "display_name": "Python 3"
    },
    "language_info": {
      "name": "python"
    }
  },
  "cells": [
    {
      "cell_type": "markdown",
      "metadata": {
        "id": "view-in-github",
        "colab_type": "text"
      },
      "source": [
        "<a href=\"https://colab.research.google.com/github/haituly/Stress-Detection-Machine-Learning/blob/main/Stress_Detection.ipynb\" target=\"_parent\"><img src=\"https://colab.research.google.com/assets/colab-badge.svg\" alt=\"Open In Colab\"/></a>"
      ]
    },
    {
      "cell_type": "markdown",
      "source": [
        "# Stress Detection"
      ],
      "metadata": {
        "id": "96Z-h5LnNo2d"
      }
    },
    {
      "cell_type": "markdown",
      "source": [
        "For this project, i will use public stress dataset from Kaggel, and i will create a text stress detector using Bernoullie Naive Bayes algorithm machine learning."
      ],
      "metadata": {
        "id": "GH0jXP6LNsbl"
      }
    },
    {
      "cell_type": "markdown",
      "source": [
        "https://www.kaggle.com/datasets/kreeshrajani/human-stress-prediction\n",
        "\n",
        "https://www.kaggle.com/datasets/shuvojitdas/stress-analysis"
      ],
      "metadata": {
        "id": "ywoqQLezT-FL"
      }
    },
    {
      "cell_type": "markdown",
      "source": [
        "# Import important libraries"
      ],
      "metadata": {
        "id": "Gc3XxbTr6jdP"
      }
    },
    {
      "cell_type": "code",
      "source": [
        "import numpy as np\n",
        "import pandas as pd\n",
        "import matplotlib.pyplot as plt\n",
        "\n",
        "\n",
        "import nltk\n",
        "import re\n",
        "import string\n",
        "nltk.download('stopwords')\n",
        "from nltk.corpus import stopwords\n",
        "stemmer = nltk.SnowballStemmer(\"english\")\n",
        "\n",
        "\n",
        "from sklearn.feature_extraction.text import CountVectorizer\n",
        "from sklearn.model_selection import train_test_split\n",
        "from sklearn.naive_bayes import BernoulliNB\n",
        "from sklearn.metrics import classification_report, confusion_matrix, accuracy_score"
      ],
      "metadata": {
        "colab": {
          "base_uri": "https://localhost:8080/"
        },
        "id": "ZybMhAog9ZDY",
        "outputId": "76859a50-6f70-427e-9ba4-6b18fe2d12fd"
      },
      "execution_count": 107,
      "outputs": [
        {
          "output_type": "stream",
          "name": "stderr",
          "text": [
            "[nltk_data] Downloading package stopwords to /root/nltk_data...\n",
            "[nltk_data]   Package stopwords is already up-to-date!\n"
          ]
        }
      ]
    },
    {
      "cell_type": "markdown",
      "source": [
        "# Import dataset"
      ],
      "metadata": {
        "id": "dWV56BLE6j-f"
      }
    },
    {
      "cell_type": "code",
      "source": [
        "from google.colab import drive\n",
        "drive.mount(\"/content/gdrive/\")"
      ],
      "metadata": {
        "colab": {
          "base_uri": "https://localhost:8080/"
        },
        "id": "xVK3k0Sp-UfS",
        "outputId": "0982d11f-a1b9-45eb-f271-86cd7a9851d2"
      },
      "execution_count": 51,
      "outputs": [
        {
          "output_type": "stream",
          "name": "stdout",
          "text": [
            "Drive already mounted at /content/gdrive/; to attempt to forcibly remount, call drive.mount(\"/content/gdrive/\", force_remount=True).\n"
          ]
        }
      ]
    },
    {
      "cell_type": "code",
      "source": [
        "cd gdrive/MyDrive/Stress_Detection_Dataset"
      ],
      "metadata": {
        "colab": {
          "base_uri": "https://localhost:8080/"
        },
        "id": "QA3ysbrS-a1Y",
        "outputId": "96fcfc7d-65c6-4cab-8f0e-dbbf5fdab852"
      },
      "execution_count": 52,
      "outputs": [
        {
          "output_type": "stream",
          "name": "stdout",
          "text": [
            "[Errno 2] No such file or directory: 'gdrive/MyDrive/Stress_Detection_Dataset'\n",
            "/content/gdrive/MyDrive/Stress_Detection_Dataset\n"
          ]
        }
      ]
    },
    {
      "cell_type": "code",
      "source": [
        "train_data = pd.read_csv(\"Train_2018.txt\",sep='\\t', error_bad_lines=False, warn_bad_lines=True)\n",
        "stress_data = pd.read_csv(\"stress.csv\")\n",
        "stress2_data = pd.read_csv(\"stress2.csv\")"
      ],
      "metadata": {
        "id": "vBWtFHIy-dT7"
      },
      "execution_count": null,
      "outputs": []
    },
    {
      "cell_type": "markdown",
      "source": [
        "## Data Observation"
      ],
      "metadata": {
        "id": "2_lUVs_A6kCE"
      }
    },
    {
      "cell_type": "code",
      "source": [
        "stress2_data.head()"
      ],
      "metadata": {
        "colab": {
          "base_uri": "https://localhost:8080/",
          "height": 204
        },
        "id": "Gcjn3cyZPnHF",
        "outputId": "d0aa65b9-07e5-4dd9-9bd7-0612ec1d6696"
      },
      "execution_count": 109,
      "outputs": [
        {
          "output_type": "execute_result",
          "data": {
            "text/plain": [
              "          subreddit post_id sentence_range  \\\n",
              "0              ptsd  8601tu       (15, 20)   \n",
              "1        assistance  8lbrx9         (0, 5)   \n",
              "2              ptsd  9ch1zh       (15, 20)   \n",
              "3     relationships  7rorpp        [5, 10]   \n",
              "4  survivorsofabuse  9p2gbc         [0, 5]   \n",
              "\n",
              "                                                text  label  confidence  \\\n",
              "0  He said he had not felt that way before, sugge...      1         0.8   \n",
              "1  Hey there r/assistance, Not sure if this is th...      0         1.0   \n",
              "2  My mom then hit me with the newspaper and it s...      1         0.8   \n",
              "3  until i met my new boyfriend, he is amazing, h...      1         0.6   \n",
              "4  October is Domestic Violence Awareness Month a...      1         0.8   \n",
              "\n",
              "   social_timestamp  \n",
              "0        1521614353  \n",
              "1        1527009817  \n",
              "2        1535935605  \n",
              "3        1516429555  \n",
              "4        1539809005  "
            ],
            "text/html": [
              "\n",
              "  <div id=\"df-d08d00d5-7828-4dc8-8e01-995aad5dfefc\">\n",
              "    <div class=\"colab-df-container\">\n",
              "      <div>\n",
              "<style scoped>\n",
              "    .dataframe tbody tr th:only-of-type {\n",
              "        vertical-align: middle;\n",
              "    }\n",
              "\n",
              "    .dataframe tbody tr th {\n",
              "        vertical-align: top;\n",
              "    }\n",
              "\n",
              "    .dataframe thead th {\n",
              "        text-align: right;\n",
              "    }\n",
              "</style>\n",
              "<table border=\"1\" class=\"dataframe\">\n",
              "  <thead>\n",
              "    <tr style=\"text-align: right;\">\n",
              "      <th></th>\n",
              "      <th>subreddit</th>\n",
              "      <th>post_id</th>\n",
              "      <th>sentence_range</th>\n",
              "      <th>text</th>\n",
              "      <th>label</th>\n",
              "      <th>confidence</th>\n",
              "      <th>social_timestamp</th>\n",
              "    </tr>\n",
              "  </thead>\n",
              "  <tbody>\n",
              "    <tr>\n",
              "      <th>0</th>\n",
              "      <td>ptsd</td>\n",
              "      <td>8601tu</td>\n",
              "      <td>(15, 20)</td>\n",
              "      <td>He said he had not felt that way before, sugge...</td>\n",
              "      <td>1</td>\n",
              "      <td>0.8</td>\n",
              "      <td>1521614353</td>\n",
              "    </tr>\n",
              "    <tr>\n",
              "      <th>1</th>\n",
              "      <td>assistance</td>\n",
              "      <td>8lbrx9</td>\n",
              "      <td>(0, 5)</td>\n",
              "      <td>Hey there r/assistance, Not sure if this is th...</td>\n",
              "      <td>0</td>\n",
              "      <td>1.0</td>\n",
              "      <td>1527009817</td>\n",
              "    </tr>\n",
              "    <tr>\n",
              "      <th>2</th>\n",
              "      <td>ptsd</td>\n",
              "      <td>9ch1zh</td>\n",
              "      <td>(15, 20)</td>\n",
              "      <td>My mom then hit me with the newspaper and it s...</td>\n",
              "      <td>1</td>\n",
              "      <td>0.8</td>\n",
              "      <td>1535935605</td>\n",
              "    </tr>\n",
              "    <tr>\n",
              "      <th>3</th>\n",
              "      <td>relationships</td>\n",
              "      <td>7rorpp</td>\n",
              "      <td>[5, 10]</td>\n",
              "      <td>until i met my new boyfriend, he is amazing, h...</td>\n",
              "      <td>1</td>\n",
              "      <td>0.6</td>\n",
              "      <td>1516429555</td>\n",
              "    </tr>\n",
              "    <tr>\n",
              "      <th>4</th>\n",
              "      <td>survivorsofabuse</td>\n",
              "      <td>9p2gbc</td>\n",
              "      <td>[0, 5]</td>\n",
              "      <td>October is Domestic Violence Awareness Month a...</td>\n",
              "      <td>1</td>\n",
              "      <td>0.8</td>\n",
              "      <td>1539809005</td>\n",
              "    </tr>\n",
              "  </tbody>\n",
              "</table>\n",
              "</div>\n",
              "      <button class=\"colab-df-convert\" onclick=\"convertToInteractive('df-d08d00d5-7828-4dc8-8e01-995aad5dfefc')\"\n",
              "              title=\"Convert this dataframe to an interactive table.\"\n",
              "              style=\"display:none;\">\n",
              "        \n",
              "  <svg xmlns=\"http://www.w3.org/2000/svg\" height=\"24px\"viewBox=\"0 0 24 24\"\n",
              "       width=\"24px\">\n",
              "    <path d=\"M0 0h24v24H0V0z\" fill=\"none\"/>\n",
              "    <path d=\"M18.56 5.44l.94 2.06.94-2.06 2.06-.94-2.06-.94-.94-2.06-.94 2.06-2.06.94zm-11 1L8.5 8.5l.94-2.06 2.06-.94-2.06-.94L8.5 2.5l-.94 2.06-2.06.94zm10 10l.94 2.06.94-2.06 2.06-.94-2.06-.94-.94-2.06-.94 2.06-2.06.94z\"/><path d=\"M17.41 7.96l-1.37-1.37c-.4-.4-.92-.59-1.43-.59-.52 0-1.04.2-1.43.59L10.3 9.45l-7.72 7.72c-.78.78-.78 2.05 0 2.83L4 21.41c.39.39.9.59 1.41.59.51 0 1.02-.2 1.41-.59l7.78-7.78 2.81-2.81c.8-.78.8-2.07 0-2.86zM5.41 20L4 18.59l7.72-7.72 1.47 1.35L5.41 20z\"/>\n",
              "  </svg>\n",
              "      </button>\n",
              "      \n",
              "  <style>\n",
              "    .colab-df-container {\n",
              "      display:flex;\n",
              "      flex-wrap:wrap;\n",
              "      gap: 12px;\n",
              "    }\n",
              "\n",
              "    .colab-df-convert {\n",
              "      background-color: #E8F0FE;\n",
              "      border: none;\n",
              "      border-radius: 50%;\n",
              "      cursor: pointer;\n",
              "      display: none;\n",
              "      fill: #1967D2;\n",
              "      height: 32px;\n",
              "      padding: 0 0 0 0;\n",
              "      width: 32px;\n",
              "    }\n",
              "\n",
              "    .colab-df-convert:hover {\n",
              "      background-color: #E2EBFA;\n",
              "      box-shadow: 0px 1px 2px rgba(60, 64, 67, 0.3), 0px 1px 3px 1px rgba(60, 64, 67, 0.15);\n",
              "      fill: #174EA6;\n",
              "    }\n",
              "\n",
              "    [theme=dark] .colab-df-convert {\n",
              "      background-color: #3B4455;\n",
              "      fill: #D2E3FC;\n",
              "    }\n",
              "\n",
              "    [theme=dark] .colab-df-convert:hover {\n",
              "      background-color: #434B5C;\n",
              "      box-shadow: 0px 1px 3px 1px rgba(0, 0, 0, 0.15);\n",
              "      filter: drop-shadow(0px 1px 2px rgba(0, 0, 0, 0.3));\n",
              "      fill: #FFFFFF;\n",
              "    }\n",
              "  </style>\n",
              "\n",
              "      <script>\n",
              "        const buttonEl =\n",
              "          document.querySelector('#df-d08d00d5-7828-4dc8-8e01-995aad5dfefc button.colab-df-convert');\n",
              "        buttonEl.style.display =\n",
              "          google.colab.kernel.accessAllowed ? 'block' : 'none';\n",
              "\n",
              "        async function convertToInteractive(key) {\n",
              "          const element = document.querySelector('#df-d08d00d5-7828-4dc8-8e01-995aad5dfefc');\n",
              "          const dataTable =\n",
              "            await google.colab.kernel.invokeFunction('convertToInteractive',\n",
              "                                                     [key], {});\n",
              "          if (!dataTable) return;\n",
              "\n",
              "          const docLinkHtml = 'Like what you see? Visit the ' +\n",
              "            '<a target=\"_blank\" href=https://colab.research.google.com/notebooks/data_table.ipynb>data table notebook</a>'\n",
              "            + ' to learn more about interactive tables.';\n",
              "          element.innerHTML = '';\n",
              "          dataTable['output_type'] = 'display_data';\n",
              "          await google.colab.output.renderOutput(dataTable, element);\n",
              "          const docLink = document.createElement('div');\n",
              "          docLink.innerHTML = docLinkHtml;\n",
              "          element.appendChild(docLink);\n",
              "        }\n",
              "      </script>\n",
              "    </div>\n",
              "  </div>\n",
              "  "
            ]
          },
          "metadata": {},
          "execution_count": 109
        }
      ]
    },
    {
      "cell_type": "code",
      "source": [
        "stress_data.info()"
      ],
      "metadata": {
        "colab": {
          "base_uri": "https://localhost:8080/"
        },
        "id": "4kghQDbi_BsG",
        "outputId": "3346fd9e-065b-4180-a610-cc4c7a66c2a5"
      },
      "execution_count": 110,
      "outputs": [
        {
          "output_type": "stream",
          "name": "stdout",
          "text": [
            "<class 'pandas.core.frame.DataFrame'>\n",
            "RangeIndex: 2838 entries, 0 to 2837\n",
            "Columns: 116 entries, subreddit to sentiment\n",
            "dtypes: float64(106), int64(6), object(4)\n",
            "memory usage: 2.5+ MB\n"
          ]
        }
      ]
    },
    {
      "cell_type": "code",
      "source": [
        "stress2_data.info()"
      ],
      "metadata": {
        "colab": {
          "base_uri": "https://localhost:8080/"
        },
        "id": "79mt-WGMO2lq",
        "outputId": "fd8d1356-d3a4-48af-cc5a-8d9bf88cbbf4"
      },
      "execution_count": 111,
      "outputs": [
        {
          "output_type": "stream",
          "name": "stdout",
          "text": [
            "<class 'pandas.core.frame.DataFrame'>\n",
            "RangeIndex: 2838 entries, 0 to 2837\n",
            "Data columns (total 7 columns):\n",
            " #   Column            Non-Null Count  Dtype  \n",
            "---  ------            --------------  -----  \n",
            " 0   subreddit         2838 non-null   object \n",
            " 1   post_id           2838 non-null   object \n",
            " 2   sentence_range    2838 non-null   object \n",
            " 3   text              2838 non-null   object \n",
            " 4   label             2838 non-null   int64  \n",
            " 5   confidence        2838 non-null   float64\n",
            " 6   social_timestamp  2838 non-null   int64  \n",
            "dtypes: float64(1), int64(2), object(4)\n",
            "memory usage: 155.3+ KB\n"
          ]
        }
      ]
    },
    {
      "cell_type": "markdown",
      "source": [
        "## Preprocessing data"
      ],
      "metadata": {
        "id": "JVEQSXsT6kXG"
      }
    },
    {
      "cell_type": "markdown",
      "source": [
        "### Filtering data"
      ],
      "metadata": {
        "id": "xUDNEZ5O6hfw"
      }
    },
    {
      "cell_type": "markdown",
      "source": [
        "Creating dataset which contains only texts and stress columns."
      ],
      "metadata": {
        "id": "931WMrppCKsJ"
      }
    },
    {
      "cell_type": "code",
      "source": [
        "label_stress_data = stress_data[[\"text\", \"label\"]]\n",
        "label_stress_data.rename(columns={\"label\": \"stress\"}, inplace=True) #rename 'label' column to 'stress'\n",
        "label_stress_data.info()"
      ],
      "metadata": {
        "colab": {
          "base_uri": "https://localhost:8080/"
        },
        "id": "V5ox2-VM_MBk",
        "outputId": "901c1e68-25c2-41d4-89f2-8fdc22bf3c51"
      },
      "execution_count": 112,
      "outputs": [
        {
          "output_type": "stream",
          "name": "stdout",
          "text": [
            "<class 'pandas.core.frame.DataFrame'>\n",
            "RangeIndex: 2838 entries, 0 to 2837\n",
            "Data columns (total 2 columns):\n",
            " #   Column  Non-Null Count  Dtype \n",
            "---  ------  --------------  ----- \n",
            " 0   text    2838 non-null   object\n",
            " 1   stress  2838 non-null   int64 \n",
            "dtypes: int64(1), object(1)\n",
            "memory usage: 44.5+ KB\n"
          ]
        },
        {
          "output_type": "stream",
          "name": "stderr",
          "text": [
            "<ipython-input-112-6be57cb90974>:2: SettingWithCopyWarning: \n",
            "A value is trying to be set on a copy of a slice from a DataFrame\n",
            "\n",
            "See the caveats in the documentation: https://pandas.pydata.org/pandas-docs/stable/user_guide/indexing.html#returning-a-view-versus-a-copy\n",
            "  label_stress_data.rename(columns={\"label\": \"stress\"}, inplace=True) #rename 'label' column to 'stress'\n"
          ]
        }
      ]
    },
    {
      "cell_type": "code",
      "source": [
        "label_stress2_data = stress2_data[[\"text\", \"label\"]]\n",
        "label_stress2_data.rename(columns={\"label\": \"stress\"}, inplace=True) #rename 'label' column to 'stress'\n",
        "label_stress2_data.info()"
      ],
      "metadata": {
        "colab": {
          "base_uri": "https://localhost:8080/"
        },
        "id": "c36RK_3Y-1j7",
        "outputId": "c889faf8-125b-4fc2-9a2a-df550eab109d"
      },
      "execution_count": 113,
      "outputs": [
        {
          "output_type": "stream",
          "name": "stdout",
          "text": [
            "<class 'pandas.core.frame.DataFrame'>\n",
            "RangeIndex: 2838 entries, 0 to 2837\n",
            "Data columns (total 2 columns):\n",
            " #   Column  Non-Null Count  Dtype \n",
            "---  ------  --------------  ----- \n",
            " 0   text    2838 non-null   object\n",
            " 1   stress  2838 non-null   int64 \n",
            "dtypes: int64(1), object(1)\n",
            "memory usage: 44.5+ KB\n"
          ]
        },
        {
          "output_type": "stream",
          "name": "stderr",
          "text": [
            "<ipython-input-113-be2967b3e29b>:2: SettingWithCopyWarning: \n",
            "A value is trying to be set on a copy of a slice from a DataFrame\n",
            "\n",
            "See the caveats in the documentation: https://pandas.pydata.org/pandas-docs/stable/user_guide/indexing.html#returning-a-view-versus-a-copy\n",
            "  label_stress2_data.rename(columns={\"label\": \"stress\"}, inplace=True) #rename 'label' column to 'stress'\n"
          ]
        }
      ]
    },
    {
      "cell_type": "markdown",
      "source": [
        "### Combining data"
      ],
      "metadata": {
        "id": "NUuDG1md7_SS"
      }
    },
    {
      "cell_type": "code",
      "source": [
        "data = pd.concat([label_stress_data, label_stress2_data])"
      ],
      "metadata": {
        "id": "Il_PyUdF_Sjf"
      },
      "execution_count": 114,
      "outputs": []
    },
    {
      "cell_type": "code",
      "source": [
        "print(data.isnull().sum())"
      ],
      "metadata": {
        "colab": {
          "base_uri": "https://localhost:8080/"
        },
        "id": "ed6uVNCy_YCl",
        "outputId": "98fb271e-7bc2-4199-e6ec-5bde88732dd0"
      },
      "execution_count": 115,
      "outputs": [
        {
          "output_type": "stream",
          "name": "stdout",
          "text": [
            "text      0\n",
            "stress    0\n",
            "dtype: int64\n"
          ]
        }
      ]
    },
    {
      "cell_type": "markdown",
      "source": [
        "Let's take a look on the number of stress and no-stress of the combine dataset."
      ],
      "metadata": {
        "id": "ZMco2p71DPo3"
      }
    },
    {
      "cell_type": "code",
      "source": [
        "no_stress_df = data[data[\"stress\"] == 0]\n",
        "stress_df = data[data[\"stress\"]== 1]"
      ],
      "metadata": {
        "id": "pPQELpJk_Y3e"
      },
      "execution_count": 116,
      "outputs": []
    },
    {
      "cell_type": "code",
      "source": [
        "num_stress = len(stress_df)\n",
        "num_no_stress = len(no_stress_df)\n",
        "print(num_stress)\n",
        "print(num_no_stress)"
      ],
      "metadata": {
        "colab": {
          "base_uri": "https://localhost:8080/"
        },
        "id": "K2y-eZ6f_pK6",
        "outputId": "604cb186-a6fe-4145-ff38-5f142fedd8e1"
      },
      "execution_count": 117,
      "outputs": [
        {
          "output_type": "stream",
          "name": "stdout",
          "text": [
            "2976\n",
            "2700\n"
          ]
        }
      ]
    },
    {
      "cell_type": "code",
      "source": [
        "labels = [\"Stress\", \"Not Stress\"]\n",
        "values = [sum(data[\"stress\"] == 1), sum(data[\"stress\"] == 0)]\n",
        "\n",
        "plt.pie(values, labels = labels)\n",
        "print(\"Number of Stress: \", sum(data[\"stress\"] == 1))\n",
        "print(\"Number of No Stress: \", sum(data[\"stress\"] == 0))"
      ],
      "metadata": {
        "colab": {
          "base_uri": "https://localhost:8080/",
          "height": 440
        },
        "id": "2GKWir7B_5E2",
        "outputId": "81a67e01-2010-4b06-b42f-0fc64be2f59e"
      },
      "execution_count": 118,
      "outputs": [
        {
          "output_type": "stream",
          "name": "stdout",
          "text": [
            "Number of Stress:  2976\n",
            "Number of No Stress:  2700\n"
          ]
        },
        {
          "output_type": "display_data",
          "data": {
            "text/plain": [
              "<Figure size 640x480 with 1 Axes>"
            ],
            "image/png": "[encoded data removed]"
          },
          "metadata": {}
        }
      ]
    },
    {
      "cell_type": "markdown",
      "source": [
        "### Cleaning texts"
      ],
      "metadata": {
        "id": "4Tn9Tw7H8ADd"
      }
    },
    {
      "cell_type": "markdown",
      "source": [
        "We will clean text column by removing punctuations, extra-characters, stopword, and stemming words."
      ],
      "metadata": {
        "id": "ciAmUwvaEBFa"
      }
    },
    {
      "cell_type": "code",
      "source": [
        "def clean_text(text):\n",
        "  text = str(text).lower()\n",
        "  text = re.sub(r'[^\\w\\s]', '', text) #remove punctuations\n",
        "  text = re.sub('\\[.*?\\]', '', text) #remove square brackets and contents\n",
        "  text = re.sub('https?://\\S+|www\\.\\S+', '', text) #remove 'https'\n",
        "  text = re.sub('<.*?>+', '', text) #remove html tags\n",
        "  text = re.sub('\\n', '', text) #remove newline characters\n",
        "  text = [word for word in text.split() if word not in stopwords.words('english')] #remove stopwords\n",
        "  text=\" \".join(text)\n",
        "  return text"
      ],
      "metadata": {
        "id": "kPQ_6kOt_VVE"
      },
      "execution_count": 119,
      "outputs": []
    },
    {
      "cell_type": "code",
      "source": [
        "data[\"text\"] = data[\"text\"].apply(clean_text)"
      ],
      "metadata": {
        "id": "BaOsY7lz_9uA"
      },
      "execution_count": 90,
      "outputs": []
    },
    {
      "cell_type": "code",
      "source": [
        "print(data.sample(5))"
      ],
      "metadata": {
        "colab": {
          "base_uri": "https://localhost:8080/"
        },
        "id": "zWqvLFhnAAgd",
        "outputId": "785102d9-585a-4e0b-8452-07ff0b437083"
      },
      "execution_count": 121,
      "outputs": [
        {
          "output_type": "stream",
          "name": "stdout",
          "text": [
            "                                                   text  stress\n",
            "2561  This month and last have been very touch and g...       1\n",
            "2607  This is my first post on reddit and I am seeki...       1\n",
            "1301  Hey, r/Anxiety! &#x200B; I'm an undergraduate ...       0\n",
            "882   A lot of very helpful things can be found here...       0\n",
            "1575  Hi everyone, and thank you in advance for read...       1\n"
          ]
        }
      ]
    },
    {
      "cell_type": "markdown",
      "source": [
        "## Building model"
      ],
      "metadata": {
        "id": "OGIhnZnT8AnI"
      }
    },
    {
      "cell_type": "markdown",
      "source": [
        "### Bag of Word"
      ],
      "metadata": {
        "id": "FAljN2lC8Aph"
      }
    },
    {
      "cell_type": "markdown",
      "source": [
        "Converting texts into vectors"
      ],
      "metadata": {
        "id": "HujdYUKNEeaa"
      }
    },
    {
      "cell_type": "code",
      "source": [
        "x = np.array(data[\"text\"])\n",
        "y = np.array(data[\"stress\"])"
      ],
      "metadata": {
        "id": "JHId_FM3ABvh"
      },
      "execution_count": 74,
      "outputs": []
    },
    {
      "cell_type": "code",
      "source": [
        "cv = CountVectorizer()\n",
        "X = cv.fit_transform(x)"
      ],
      "metadata": {
        "id": "TJJbuIqrAERE"
      },
      "execution_count": 75,
      "outputs": []
    },
    {
      "cell_type": "markdown",
      "source": [
        "### Splitting dataset into train and test"
      ],
      "metadata": {
        "id": "jOa_cPxJ8wJ2"
      }
    },
    {
      "cell_type": "code",
      "source": [
        "X_train, X_test, y_train, y_test = train_test_split(X, y, test_size=0.3,random_state=42)"
      ],
      "metadata": {
        "id": "VpfkOkkQAO6x"
      },
      "execution_count": 76,
      "outputs": []
    },
    {
      "cell_type": "markdown",
      "source": [
        "### Training model"
      ],
      "metadata": {
        "id": "tT1iDcMe8wcV"
      }
    },
    {
      "cell_type": "code",
      "source": [
        "model = BernoulliNB()\n",
        "detect = model.fit(X_train, y_train)"
      ],
      "metadata": {
        "id": "EdrEwNT6ATpq"
      },
      "execution_count": 98,
      "outputs": []
    },
    {
      "cell_type": "code",
      "source": [
        "pred_train = detect.predict(X_train)\n",
        "pred_test = detect.predict(X_test)"
      ],
      "metadata": {
        "id": "_sKb_Gc6AVjt"
      },
      "execution_count": 99,
      "outputs": []
    },
    {
      "cell_type": "markdown",
      "source": [
        "## Evaluating model"
      ],
      "metadata": {
        "id": "0FtzLYnPTIUk"
      }
    },
    {
      "cell_type": "code",
      "source": [
        "pred_train = detect.predict(X_train) # Evaluate on train_dataset\n",
        "print('Classification Report: \\n', classification_report(y_train, pred_train))\n",
        "print('Confusion matrix: \\n', confusion_matrix(y_train, pred_train), '\\n')\n",
        "print('Accuracy: \\n', accuracy_score(y_train, pred_train))"
      ],
      "metadata": {
        "colab": {
          "base_uri": "https://localhost:8080/"
        },
        "id": "gRY7tObhAYTj",
        "outputId": "81346047-6b04-4174-cdc4-6f0ab827d962"
      },
      "execution_count": 102,
      "outputs": [
        {
          "output_type": "stream",
          "name": "stdout",
          "text": [
            "Classification Report: \n",
            "               precision    recall  f1-score   support\n",
            "\n",
            "           0       0.98      0.92      0.95      1896\n",
            "           1       0.93      0.98      0.96      2077\n",
            "\n",
            "    accuracy                           0.95      3973\n",
            "   macro avg       0.96      0.95      0.95      3973\n",
            "weighted avg       0.96      0.95      0.95      3973\n",
            "\n",
            "Confusion matrix: \n",
            " [[1748  148]\n",
            " [  35 2042]] \n",
            "\n",
            "Accuracy: \n",
            " 0.9539390888497357\n"
          ]
        }
      ]
    },
    {
      "cell_type": "code",
      "source": [
        "pred_test = detect.predict(X_test) # Evaluate on test dataset\n",
        "print('Classification Report: \\n', classification_report(y_test, pred_test))\n",
        "print('Confusion matrix: \\n', confusion_matrix(y_test, pred_test), '\\n')\n",
        "print('Accuracy: \\n', accuracy_score(y_test, pred_test))"
      ],
      "metadata": {
        "colab": {
          "base_uri": "https://localhost:8080/"
        },
        "id": "CqHxelNfAcGf",
        "outputId": "37d0d8b9-6e9f-46e5-ebdf-d85ca4aa7fcc"
      },
      "execution_count": 103,
      "outputs": [
        {
          "output_type": "stream",
          "name": "stdout",
          "text": [
            "Classification Report: \n",
            "               precision    recall  f1-score   support\n",
            "\n",
            "           0       0.93      0.78      0.85       804\n",
            "           1       0.83      0.95      0.89       899\n",
            "\n",
            "    accuracy                           0.87      1703\n",
            "   macro avg       0.88      0.87      0.87      1703\n",
            "weighted avg       0.88      0.87      0.87      1703\n",
            "\n",
            "Confusion matrix: \n",
            " [[630 174]\n",
            " [ 47 852]] \n",
            "\n",
            "Accuracy: \n",
            " 0.8702290076335878\n"
          ]
        }
      ]
    },
    {
      "cell_type": "code",
      "source": [
        "user = input(\"Enter a Text: \")\n",
        "set = cv.transform([user]).toarray()\n",
        "output = detect.predict(set)\n",
        "print(output)"
      ],
      "metadata": {
        "colab": {
          "base_uri": "https://localhost:8080/"
        },
        "id": "meNAgtydRdc3",
        "outputId": "860d0187-aaa3-4546-fd23-fdd8754accef"
      },
      "execution_count": 106,
      "outputs": [
        {
          "output_type": "stream",
          "name": "stdout",
          "text": [
            "Enter a Text: I am so worried I don't know if I am going to fail the class\n",
            "[1]\n"
          ]
        }
      ]
    },
    {
      "cell_type": "markdown",
      "source": [
        "# Conclusion"
      ],
      "metadata": {
        "id": "snqSyWl88wfA"
      }
    },
    {
      "cell_type": "markdown",
      "source": [
        "The model's accuracy is about 87% which is considered a strong predictor. "
      ],
      "metadata": {
        "id": "BrJEeySDTChM"
      }
    }
  ]
}